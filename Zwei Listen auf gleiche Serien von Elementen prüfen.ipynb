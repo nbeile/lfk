{
 "cells": [
  {
   "cell_type": "markdown",
   "metadata": {},
   "source": [
    "# Zwei Listen auf gleiche Serien von Elementen prüfen"
   ]
  },
  {
   "cell_type": "markdown",
   "metadata": {},
   "source": [
    "Überprüfen, ob die Serien von Elementen der Liste \"b\" auch in Liste \"a\" vorhanden sind"
   ]
  },
  {
   "cell_type": "markdown",
   "metadata": {},
   "source": [
    "# Übereinstimmende Elemente der Serien ausgeben"
   ]
  },
  {
   "cell_type": "code",
   "execution_count": 2,
   "metadata": {},
   "outputs": [
    {
     "name": "stdout",
     "output_type": "stream",
     "text": [
      "[1, 2, 9, 10, 11, 108, 109]\n"
     ]
    }
   ],
   "source": [
    "# Überprüfen, ob die Serien von Elementen der Liste \"b\" auch in Liste \"a\" vorhanden sind\n",
    "# Übereinstimmende Serien ungeordnet ausgeben\n",
    "\n",
    "# !Achtung falls die Listen stark unterschiedliche Laengen besitzen, sollte die Iteration von beiden Seiten stattfinden,\n",
    "# als überprüfen ob Serien der Liste \"b\" auch in \"a\" vorkommen (hier der Fall) und umgekehrt.\n",
    "\n",
    "# !Achtung lässt (gewollt) das letzte Element fallen\n",
    "\n",
    "# Liste erstellen\n",
    "a = [1,2,3,45,9,10,11,12,55,43,107,108,109,110]\n",
    "b = [-1,0,1,2,3,4,5,6,7,8,9,10,11,12,13,14,15,108,109,110]\n",
    "\n",
    "# Liste \"ausgabe\" mit übereinstimmenden Elementen von Serien der Listen \"a\" und \"b\"\n",
    "ausgabe = []\n",
    "\n",
    "# Jedes Element der Liste 'b' einzel überprüfen, ob es auch in Liste 'a' vorkommt\n",
    "for element in b:\n",
    "    if element in a:\n",
    "        # Variable z beinhaltet die Position (Index) des ebenfalls in Liste \"a\" vokommenden Elements\n",
    "        z = a.index(element)\n",
    "        # Try-Except verhindert, dass es zu einem Fehler kommt, wenn das \"nächste Element\" vom tatsaechlich letzten Element\n",
    "        # einer Liste abgefragt wird.\n",
    "        try:\n",
    "            # Wenn nach einem Treffer das jeweils nächste Element beider Listen ebenfalls identisch ist,...\n",
    "            if b[b.index(element)+1] == a[a.index(element)+1]:\n",
    "                # Wird es in die Liste \"ausgabe\" geschrieben\n",
    "                ausgabe.append(b[b.index(element)])\n",
    "        except:\n",
    "            pass\n",
    "        \n",
    "\n",
    "# Ausgeben\n",
    "print(ausgabe)"
   ]
  },
  {
   "cell_type": "markdown",
   "metadata": {},
   "source": [
    "# Liste mit Listen von Start- und Endwerten der Serien "
   ]
  },
  {
   "cell_type": "code",
   "execution_count": 14,
   "metadata": {},
   "outputs": [
    {
     "name": "stdout",
     "output_type": "stream",
     "text": [
      "[[2, 9], [11, 108]]\n"
     ]
    }
   ],
   "source": [
    "a = [1,2,3,45,9,10,11,12,55,43,107,108,109,110,111]\n",
    "b = [-1,0,1,2,3,4,5,6,7,8,9,10,11,12,13,14,15,108,109,110,111]\n",
    "\n",
    "# Die Liste \"serien_elemente\" beinhaltete als Elemente jeweils innere Listen mit den Elementen der entprechenden Serien\n",
    "serien_elemente = []\n",
    "\n",
    "# Jedes Element der Liste 'b' einzel überprüfen, ob es auch in Liste 'a' vorkommt\n",
    "for element in b:\n",
    "    if element in a:\n",
    "        # Variable z beinhaltet die Position (Index) des ebenfalls in Liste \"a\" vokommenden Elements\n",
    "        z = a.index(element)\n",
    "        # Try-Except verhindert, dass es zu einem Fehler kommt, wenn das \"nächste Element\" vom tatsaechlich letzten Element\n",
    "        # einer Liste abgefragt wird.\n",
    "        try:\n",
    "            # Wenn nach einem Treffer das jeweils nächste Element beider Listen ebenfalls identisch ist,...\n",
    "            if b[b.index(element)+i] == a[a.index(element)+i]:\n",
    "                # Wird es in die Liste \"serien_elemente\" geschrieben\n",
    "                serien_elemente.append(b[b.index(element)])\n",
    "        except:\n",
    "            pass\n",
    "        # Die Liste \"serien_elemente\" mit der aktuell gefundenen Serie erweitern\n",
    "        #serien_elemente.append(temp)\n",
    "        \n",
    "# Liste \"serien_bereichen\" mit Listen von Start- und Endwerten der Serien\n",
    "serien_bereichen = []\n",
    "\n",
    "# \"enumerate(liste)\" gibt als Tupel den index einer Liste gefolgt von ihrem Wert aus\n",
    "for idx, val in enumerate(serien_elemente):\n",
    "    # verhindern, dass ueber das letzte Element der Liste \"serien_elemente\" hinaus iteriert wird\n",
    "    if idx+1 != len(serien_elemente):\n",
    "        # Wenn die Differenz des naechsten Elements zum aktuellen nicht gleich \"1\" betraegt, ist die Serie zuende...\n",
    "        if serien_elemente[idx+1] - serien_elemente[idx] != 1:\n",
    "            # und ihr letzter Wert wird zusammen mit ihrem ersten in die Liste \"serien_bereichen\" angehaengt\n",
    "            serien_bereichen.append([serien_elemente[idx], serien_elemente[idx+1]])\n",
    "                \n",
    "# Ausgeben\n",
    "print(serien_bereichen)"
   ]
  }
 ],
 "metadata": {
  "kernelspec": {
   "display_name": "Python 3",
   "language": "python",
   "name": "python3"
  },
  "language_info": {
   "codemirror_mode": {
    "name": "ipython",
    "version": 3
   },
   "file_extension": ".py",
   "mimetype": "text/x-python",
   "name": "python",
   "nbconvert_exporter": "python",
   "pygments_lexer": "ipython3",
   "version": "3.6.5"
  }
 },
 "nbformat": 4,
 "nbformat_minor": 2
}

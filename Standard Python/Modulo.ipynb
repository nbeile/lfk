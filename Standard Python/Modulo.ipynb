{
 "cells": [
  {
   "cell_type": "markdown",
   "metadata": {},
   "source": [
    "Zählt in einer Schleife zwei Variablen mit unterschiedlicher Schrittzahl hoch.\n",
    "i erhöht sich nach jeder Wiederholung\n",
    "z erhöht sich nach jeder fuenften Wiederholung"
   ]
  },
  {
   "cell_type": "code",
   "execution_count": 2,
   "metadata": {},
   "outputs": [
    {
     "name": "stdout",
     "output_type": "stream",
     "text": [
      "i = 1\n",
      "z = 1\n",
      "i = 2\n",
      "z = 1\n",
      "i = 3\n",
      "z = 1\n",
      "i = 4\n",
      "z = 1\n",
      "i = 5\n",
      "z = 1\n",
      "i = 6\n",
      "z = 2\n",
      "i = 7\n",
      "z = 2\n",
      "i = 8\n",
      "z = 2\n",
      "i = 9\n",
      "z = 2\n",
      "i = 10\n",
      "z = 2\n",
      "i = 11\n",
      "z = 3\n",
      "i = 12\n",
      "z = 3\n"
     ]
    }
   ],
   "source": [
    "import time\n",
    "z = 0\n",
    "i = 0\n",
    "while i<12:\n",
    "    if z < 5:\n",
    "        if i % 5 == 0:\n",
    "            z += 1\n",
    "    if z == 5:\n",
    "        z = 0\n",
    "        \n",
    "    i += 1\n",
    "    \n",
    "    time.sleep(1)\n",
    "    \n",
    "    print(\"i = \" + str(i))\n",
    "    print(\"z = \" + str(z))"
   ]
  },
  {
   "cell_type": "code",
   "execution_count": null,
   "metadata": {},
   "outputs": [],
   "source": []
  }
 ],
 "metadata": {
  "kernelspec": {
   "display_name": "Python 3",
   "language": "python",
   "name": "python3"
  }
 },
 "nbformat": 4,
 "nbformat_minor": 2
}

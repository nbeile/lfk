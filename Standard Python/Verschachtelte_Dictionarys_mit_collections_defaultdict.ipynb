{
 "cells": [
  {
   "cell_type": "code",
   "execution_count": 4,
   "metadata": {},
   "outputs": [],
   "source": [
    "import collections"
   ]
  },
  {
   "cell_type": "code",
   "execution_count": 1,
   "metadata": {},
   "outputs": [],
   "source": [
    "inhalte = {\"MSFT_i\" : [\"Microsoft Inc\", \"aktie\", \"intraday\"],\n",
    "          \"^DAX_d\" : [\"DAX\", \"index\", \"daily\"]}"
   ]
  },
  {
   "cell_type": "code",
   "execution_count": 2,
   "metadata": {},
   "outputs": [],
   "source": [
    "li_inhalte = [\"MSFT_i\", \"^DAX_d\"]"
   ]
  },
  {
   "cell_type": "code",
   "execution_count": 3,
   "metadata": {},
   "outputs": [],
   "source": [
    "einstellungen = {}"
   ]
  },
  {
   "cell_type": "code",
   "execution_count": 6,
   "metadata": {},
   "outputs": [],
   "source": [
    "# Fuer das einfachere Schreiben verschachtelter Dictionarys wird \"panels\" als \"defaultdict\" ausgefuehrt\n",
    "panels = collections.defaultdict(dict)\n",
    "# Form des Dictionarys:\n",
    "# einstellungen = {panels : {Interface_Position : {Symbol : [Liste mit Variablen fuer diese Aktie/Inhalt]}}}\n",
    "# Bsp.: einstellungen = {'panels': {0: {'MSFT_i': ['Microsoft Inc', 'aktie', 'intraday']}, 1: {'^DAX_d': ['DAX', 'index', 'daily']}}}\n",
    "# Mit Index \"Interface_Position\" und Element \"html_id\" durch Liste \"li_inhalte\" Iterieren\n",
    "for Interface_Position, html_id in enumerate(li_inhalte):\n",
    "    panels[Interface_Position][html_id] = inhalte[li_inhalte[Interface_Position]]\n",
    "# \"panels\" in gewoehnliches Dictionary umwandeln\n",
    "panels = dict(panels)\n",
    "einstellungen[\"panels\"] = panels\n",
    "# Nicht mehr benoetigte Variable des Verschachtelten Dictionarys \"panels\" aus Arbeitspeicher entfernen\n",
    "del panels"
   ]
  },
  {
   "cell_type": "code",
   "execution_count": 7,
   "metadata": {},
   "outputs": [
    {
     "data": {
      "text/plain": [
       "{'panels': {0: {'MSFT_i': ['Microsoft Inc', 'aktie', 'intraday']},\n",
       "  1: {'^DAX_d': ['DAX', 'index', 'daily']}}}"
      ]
     },
     "execution_count": 7,
     "metadata": {},
     "output_type": "execute_result"
    }
   ],
   "source": [
    "einstellungen"
   ]
  },
  {
   "cell_type": "code",
   "execution_count": null,
   "metadata": {},
   "outputs": [],
   "source": []
  }
 ],
 "metadata": {
  "kernelspec": {
   "display_name": "Python (test0)",
   "language": "python",
   "name": "test0"
  },
  "language_info": {
   "codemirror_mode": {
    "name": "ipython",
    "version": 3
   },
   "file_extension": ".py",
   "mimetype": "text/x-python",
   "name": "python",
   "nbconvert_exporter": "python",
   "pygments_lexer": "ipython3",
   "version": "3.6.5"
  }
 },
 "nbformat": 4,
 "nbformat_minor": 2
}

{
 "cells": [
  {
   "cell_type": "markdown",
   "metadata": {},
   "source": [
    "Aufbau eines Dictionarys:"
   ]
  },
  {
   "cell_type": "code",
   "execution_count": 1,
   "metadata": {},
   "outputs": [],
   "source": [
    "dictionary = {\n",
    "    \"key_1\" : \"value_1\",\n",
    "    \"Schlüssel_2\" : \"Wert_2\"\n",
    "             }"
   ]
  },
  {
   "cell_type": "markdown",
   "metadata": {},
   "source": [
    "Dictionary mit (geschweiften) Klammerns aufbauen:"
   ]
  },
  {
   "cell_type": "code",
   "execution_count": 2,
   "metadata": {},
   "outputs": [],
   "source": [
    "# Dictionary mit (geschweiften) Klammerns aufbauen:\n",
    "fc_bayern = {\n",
    "    \"Name\" : \"Fußball‑Club Bayern, München e.V.\",\n",
    "    \"Gründung\" : \"27/2/1900\",\n",
    "    \"URL\" : \"https://fcbayern.com/de\",\n",
    "    \"Kadergröße\" : 30\n",
    "            }"
   ]
  },
  {
   "cell_type": "markdown",
   "metadata": {},
   "source": [
    "Variablen ausgeben:"
   ]
  },
  {
   "cell_type": "code",
   "execution_count": 3,
   "metadata": {
    "scrolled": true
   },
   "outputs": [
    {
     "data": {
      "text/plain": [
       "{'Gründung': '27/2/1900',\n",
       " 'Kadergröße': 30,\n",
       " 'Name': 'Fußball‑Club Bayern, München e.V.',\n",
       " 'URL': 'https://fcbayern.com/de'}"
      ]
     },
     "execution_count": 3,
     "metadata": {},
     "output_type": "execute_result"
    }
   ],
   "source": [
    "#Variablen ausgeben:\n",
    "fc_bayern"
   ]
  },
  {
   "cell_type": "markdown",
   "metadata": {},
   "source": [
    "Dictionary mit Schlüsseln (keys) aufbauen / Werte hinzufügen:"
   ]
  },
  {
   "cell_type": "code",
   "execution_count": 4,
   "metadata": {},
   "outputs": [],
   "source": [
    "# Dictionary mit Schlüsseln (keys) aufbauen / Werte hinzufügen:\n",
    "fc_bayern = {}\n",
    "fc_bayern[\"Name\"] = \"Fußball‑Club Bayern, München e.V.\"\n",
    "fc_bayern[\"Gründung\"] = \"27/2/1900\"\n",
    "fc_bayern[\"URL\"] = \"https://fcbayern.com/de\"\n",
    "fc_bayern[\"Kadergröße\"] = 30"
   ]
  },
  {
   "cell_type": "code",
   "execution_count": 5,
   "metadata": {},
   "outputs": [
    {
     "data": {
      "text/plain": [
       "{'Gründung': '27/2/1900',\n",
       " 'Kadergröße': 30,\n",
       " 'Name': 'Fußball‑Club Bayern, München e.V.',\n",
       " 'URL': 'https://fcbayern.com/de'}"
      ]
     },
     "execution_count": 5,
     "metadata": {},
     "output_type": "execute_result"
    }
   ],
   "source": [
    "#Variablen ausgeben:\n",
    "fc_bayern"
   ]
  },
  {
   "cell_type": "markdown",
   "metadata": {},
   "source": [
    "Überprüfen, ob Wert enthalten ist:"
   ]
  },
  {
   "cell_type": "code",
   "execution_count": 6,
   "metadata": {},
   "outputs": [
    {
     "name": "stdout",
     "output_type": "stream",
     "text": [
      "Fußball‑Club Bayern, München e.V.\n",
      "Eintrag Ort nicht vorhanden\n"
     ]
    }
   ],
   "source": [
    "# Überprüfen, ob Wert enthalten ist:\n",
    "if \"Name\" in fc_bayern:\n",
    "    print(fc_bayern[\"Name\"])\n",
    "else:\n",
    "    print(\"Eintrag '\"'Name'\" nicht vorhanden\")\n",
    "\n",
    "if \"Ort\" not in fc_bayern:\n",
    "    print(\"Eintrag Ort nicht vorhanden\")\n",
    "else:\n",
    "    print(fc_bayern[\"Ort\"])"
   ]
  },
  {
   "cell_type": "markdown",
   "metadata": {},
   "source": [
    "Anzahl der Elemente (items) ausgeben:"
   ]
  },
  {
   "cell_type": "code",
   "execution_count": 7,
   "metadata": {},
   "outputs": [
    {
     "name": "stdout",
     "output_type": "stream",
     "text": [
      "4\n"
     ]
    }
   ],
   "source": [
    "# Anzahl der Elemente (items) ausgeben:\n",
    "Anzahl = len(fc_bayern)\n",
    "\n",
    "# Ausgeben\n",
    "print(Anzahl)"
   ]
  },
  {
   "cell_type": "markdown",
   "metadata": {},
   "source": [
    "Ersetzen eines Wertes:"
   ]
  },
  {
   "cell_type": "code",
   "execution_count": 8,
   "metadata": {},
   "outputs": [
    {
     "name": "stdout",
     "output_type": "stream",
     "text": [
      "32\n"
     ]
    }
   ],
   "source": [
    "# Ersetzen eines Wertes:\n",
    "fc_bayern[\"Kadergröße\"] = 32\n",
    "print(fc_bayern[\"Kadergröße\"])"
   ]
  },
  {
   "cell_type": "markdown",
   "metadata": {},
   "source": [
    "Element entfernen:"
   ]
  },
  {
   "cell_type": "code",
   "execution_count": 9,
   "metadata": {},
   "outputs": [
    {
     "data": {
      "text/plain": [
       "{'Gründung': '27/2/1900',\n",
       " 'Kadergröße': 32,\n",
       " 'Name': 'Fußball‑Club Bayern, München e.V.'}"
      ]
     },
     "execution_count": 9,
     "metadata": {},
     "output_type": "execute_result"
    }
   ],
   "source": [
    "# Element entfernen:\n",
    "del fc_bayern[\"URL\"]\n",
    "\n",
    "# Ausgeben\n",
    "fc_bayern"
   ]
  },
  {
   "cell_type": "markdown",
   "metadata": {},
   "source": [
    "Alle Werte eines Dictionarys als Views ausgeben:"
   ]
  },
  {
   "cell_type": "code",
   "execution_count": 10,
   "metadata": {},
   "outputs": [
    {
     "name": "stdout",
     "output_type": "stream",
     "text": [
      "dict_values(['Fußball‑Club Bayern, München e.V.', '27/2/1900', 32])\n"
     ]
    }
   ],
   "source": [
    "# Alle Werte eines Dictionarys als Views ausgeben:\n",
    "Values_View = fc_bayern.values()\n",
    "\n",
    "# Ausgeben\n",
    "print(Values_View)"
   ]
  },
  {
   "cell_type": "markdown",
   "metadata": {},
   "source": [
    "Alle Schlüssel eines Dictionarys als Views ausgeben:"
   ]
  },
  {
   "cell_type": "code",
   "execution_count": 11,
   "metadata": {},
   "outputs": [
    {
     "name": "stdout",
     "output_type": "stream",
     "text": [
      "dict_keys(['Name', 'Gründung', 'Kadergröße'])\n"
     ]
    }
   ],
   "source": [
    "# Alle Schlüssel eines Dictionarys als Views ausgeben:\n",
    "Keys_View = fc_bayern.keys()\n",
    "\n",
    "# Ausgeben\n",
    "print(Keys_View)"
   ]
  },
  {
   "cell_type": "markdown",
   "metadata": {},
   "source": [
    "Alle Elemente eines Dictionarys als Views ausgeben:"
   ]
  },
  {
   "cell_type": "code",
   "execution_count": 12,
   "metadata": {},
   "outputs": [
    {
     "name": "stdout",
     "output_type": "stream",
     "text": [
      "dict_items([('Name', 'Fußball‑Club Bayern, München e.V.'), ('Gründung', '27/2/1900'), ('Kadergröße', 32)])\n"
     ]
    }
   ],
   "source": [
    "# Alle Elemente eines Dictionarys als Views ausgeben:\n",
    "Items_View = fc_bayern.items()\n",
    "\n",
    "# Ausgeben\n",
    "print(Items_View)"
   ]
  },
  {
   "cell_type": "markdown",
   "metadata": {},
   "source": [
    "Dictionarys vergleichen:"
   ]
  },
  {
   "cell_type": "code",
   "execution_count": 13,
   "metadata": {},
   "outputs": [
    {
     "name": "stdout",
     "output_type": "stream",
     "text": [
      "Fehler\n"
     ]
    }
   ],
   "source": [
    "# Dictionarys vergleichen:\n",
    "\n",
    "# Zu vergleichende Dictionarys erstellen\n",
    "dict_1 = {\"wert_1\" : 42, \"wert_2\" : 43}\n",
    "dict_2 = {\"wert_2\" : 23, \"wert_1\" : 51}\n",
    "\n",
    "# Vergleichen\n",
    "if dict_1 == dict_2:\n",
    "    print(\"Beide Dictionarys sind identisch\")\n",
    "try:\n",
    "    if dict_1 < dict_2:\n",
    "        print(\"dict_1 < dict_2\")\n",
    "    else:\n",
    "        print(\"dict_1 > dict_2\")\n",
    "except:\n",
    "    print(\"Fehler\")"
   ]
  },
  {
   "cell_type": "markdown",
   "metadata": {},
   "source": [
    "# Dictionary mit  Zeitangaben:"
   ]
  },
  {
   "cell_type": "code",
   "execution_count": 16,
   "metadata": {},
   "outputs": [
    {
     "data": {
      "text/plain": [
       "{'18:11:45 04.05.18': 'Wert_0',\n",
       " '18:11:46 04.05.18': 'Wert_1',\n",
       " '18:11:47 04.05.18': 'Wert_2',\n",
       " '18:11:48 04.05.18': 'Wert_3',\n",
       " '18:11:49 04.05.18': 'Wert_4',\n",
       " '18:11:50 04.05.18': 'Wert_5',\n",
       " '18:11:51 04.05.18': 'Wert_6',\n",
       " '18:11:52 04.05.18': 'Wert_7',\n",
       " '18:11:53 04.05.18': 'Wert_8',\n",
       " '18:11:54 04.05.18': 'Wert_9',\n",
       " '18:11:55 04.05.18': 'Wert_10'}"
      ]
     },
     "execution_count": 16,
     "metadata": {},
     "output_type": "execute_result"
    }
   ],
   "source": [
    "import time\n",
    "import datetime\n",
    "import pytz\n",
    "\n",
    "# Dictionary erstellen:\n",
    "Zeiten = {}\n",
    "\n",
    "# Zeitzone einstellen\n",
    "berlin = pytz.timezone('Europe/Berlin')\n",
    "fmt = \"%H:%M:%S %d.%m.%y\"\n",
    "\n",
    "# Dictionary \"Zeiten\" jede Sekunde um Element mit der aktuellen Uhrzeit und Datum erweitern\n",
    "for i in range(11):\n",
    "    Zeiten[berlin.localize(datetime.datetime.now()).strftime(fmt)] = \"Wert_{0}\".format(i)\n",
    "    time.sleep(1)\n",
    "\n",
    "# Ausgeben\n",
    "Zeiten"
   ]
  },
  {
   "cell_type": "markdown",
   "metadata": {},
   "source": [
    "# Verschachtelte Dictionarys"
   ]
  },
  {
   "cell_type": "code",
   "execution_count": 3,
   "metadata": {},
   "outputs": [
    {
     "name": "stdout",
     "output_type": "stream",
     "text": [
      "{'second_layer': {'third_layer': {'key': 'Value'}}}\n"
     ]
    }
   ],
   "source": [
    "first_layer = {}\n",
    "\n",
    "first_layer[\"second_layer\"] = {}\n",
    "first_layer[\"second_layer\"]['third_layer'] = {}\n",
    "first_layer[\"second_layer\"]['third_layer']['key'] = 'Value'\n",
    "\n",
    "print(first_layer)"
   ]
  },
  {
   "cell_type": "code",
   "execution_count": 6,
   "metadata": {},
   "outputs": [
    {
     "name": "stdout",
     "output_type": "stream",
     "text": [
      "{'16:01:14 05.05.18': 'Wert_0'}\n",
      "{'16:01:14 05.05.18': 'Wert_0', '16:01:15 05.05.18': 'Wert_1'}\n",
      "{'16:01:14 05.05.18': 'Wert_0', '16:01:15 05.05.18': 'Wert_1', '16:01:16 05.05.18': 'Wert_2'}\n",
      "{'16:01:14 05.05.18': 'Wert_0', '16:01:15 05.05.18': 'Wert_1', '16:01:16 05.05.18': 'Wert_2', '16:01:17 05.05.18': 'Wert_3'}\n",
      "{'16:01:14 05.05.18': 'Wert_0', '16:01:15 05.05.18': 'Wert_1', '16:01:16 05.05.18': 'Wert_2', '16:01:17 05.05.18': 'Wert_3', '16:01:18 05.05.18': 'Wert_4'}\n",
      "{'16:01:14 05.05.18': 'Wert_0', '16:01:15 05.05.18': 'Wert_1', '16:01:16 05.05.18': 'Wert_2', '16:01:17 05.05.18': 'Wert_3', '16:01:18 05.05.18': 'Wert_4', '16:01:19 05.05.18': 'Wert_5'}\n",
      "ausgeführt\n"
     ]
    },
    {
     "data": {
      "text/plain": [
       "{'Beispiel5': {'16:01:14 05.05.18': 'Wert_0',\n",
       "  '16:01:15 05.05.18': 'Wert_1',\n",
       "  '16:01:16 05.05.18': 'Wert_2',\n",
       "  '16:01:17 05.05.18': 'Wert_3',\n",
       "  '16:01:18 05.05.18': 'Wert_4',\n",
       "  '16:01:19 05.05.18': 'Wert_5'}}"
      ]
     },
     "execution_count": 6,
     "metadata": {},
     "output_type": "execute_result"
    }
   ],
   "source": [
    "import time\n",
    "import datetime\n",
    "import pytz\n",
    "\n",
    "outer_dict = {}\n",
    "inner_dict = {}\n",
    "\n",
    "# Zeitzone einstellen\n",
    "berlin = pytz.timezone('Europe/Berlin')\n",
    "fmt = \"%H:%M:%S %d.%m.%y\"\n",
    "\n",
    "# Dictionary \"inner_dict\" jede Sekunde um Element mit der aktuellen Uhrzeit und Datum erweitern\n",
    "def inner_dict_füller():\n",
    "    for i in range(6):\n",
    "        inner_dict[berlin.localize(datetime.datetime.now()).strftime(fmt)] = \"Wert_{0}\".format(i)\n",
    "        print(inner_dict)\n",
    "        time.sleep(1)\n",
    "    outer_dict[\"Beispiel{0}\".format(i)] = inner_dict\n",
    "    print(\"ausgeführt\")\n",
    "        \n",
    "inner_dict_füller()\n",
    "\n",
    "\n",
    "#inner_dict_füller_2()\n",
    "#outer_dict[\"Beispiel2\"] = inner_dict\n",
    "\n",
    "outer_dict"
   ]
  },
  {
   "cell_type": "code",
   "execution_count": null,
   "metadata": {},
   "outputs": [],
   "source": []
  }
 ],
 "metadata": {
  "kernelspec": {
   "display_name": "Python 3",
   "language": "python",
   "name": "python3"
  },
  "language_info": {
   "codemirror_mode": {
    "name": "ipython",
    "version": 3
   },
   "file_extension": ".py",
   "mimetype": "text/x-python",
   "name": "python",
   "nbconvert_exporter": "python",
   "pygments_lexer": "ipython3",
   "version": "3.6.5"
  }
 },
 "nbformat": 4,
 "nbformat_minor": 2
}

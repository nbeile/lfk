{
 "cells": [
  {
   "cell_type": "markdown",
   "metadata": {},
   "source": [
    "# Liste kürzen"
   ]
  },
  {
   "cell_type": "code",
   "execution_count": 18,
   "metadata": {
    "scrolled": true
   },
   "outputs": [
    {
     "name": "stdout",
     "output_type": "stream",
     "text": [
      "[0, 1, 2, 3, 4, 5, 6, 7, 8, 9, 10, 11]\n",
      "12\n",
      "[2, 3, 4, 5, 6, 7, 8, 9, 10, 11]\n",
      "10\n"
     ]
    }
   ],
   "source": [
    "# leere Liste erstellen\n",
    "li = []\n",
    "\n",
    "# 12 Elemente in Liste erstellen\n",
    "for i in range(12):\n",
    "    li.append(i)\n",
    "\n",
    "# Ausgabe der Liste und darunter die der Anzahl ihrer Elemente\n",
    "print(li)\n",
    "print(len(li))\n",
    "\n",
    "# Alle Elemente bis auf die letzten 10 löschen\n",
    "if len(li) >= 10:\n",
    "    del li[:-10]\n",
    "\n",
    "# Ausgabe der Liste und darunter die der Anzahl ihrer Elemente\n",
    "print(li)\n",
    "print(len(li))"
   ]
  }
 ],
 "metadata": {
  "kernelspec": {
   "display_name": "Python 3",
   "language": "python",
   "name": "python3"
  },
  "language_info": {
   "codemirror_mode": {
    "name": "ipython",
    "version": 3
   },
   "file_extension": ".py",
   "mimetype": "text/x-python",
   "name": "python",
   "nbconvert_exporter": "python",
   "pygments_lexer": "ipython3",
   "version": "3.6.5"
  }
 },
 "nbformat": 4,
 "nbformat_minor": 2
}

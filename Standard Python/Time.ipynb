{
 "cells": [
  {
   "cell_type": "code",
   "execution_count": 7,
   "metadata": {},
   "outputs": [],
   "source": [
    "import time\n",
    "import datetime\n",
    "import pytz # \"This library allows accurate and cross platform timezone calculations using Python\""
   ]
  },
  {
   "cell_type": "markdown",
   "metadata": {},
   "source": [
    "heutiger Tag:"
   ]
  },
  {
   "cell_type": "markdown",
   "metadata": {},
   "source": [
    "# Datum, lokale Zeitzone"
   ]
  },
  {
   "cell_type": "code",
   "execution_count": 8,
   "metadata": {},
   "outputs": [
    {
     "name": "stdout",
     "output_type": "stream",
     "text": [
      "11.05.18\n"
     ]
    }
   ],
   "source": [
    "# heutiger Tag:\n",
    "heute = datetime.date.today().strftime(\"%d.%m.%y\")\n",
    "\n",
    "# Ausgeben:\n",
    "print(heute)"
   ]
  },
  {
   "cell_type": "markdown",
   "metadata": {},
   "source": [
    "# UTC-Datum und -Uhrzeit, deutsche Formatierung"
   ]
  },
  {
   "cell_type": "code",
   "execution_count": 9,
   "metadata": {},
   "outputs": [
    {
     "name": "stdout",
     "output_type": "stream",
     "text": [
      "22:05:08 10.05.18\n"
     ]
    }
   ],
   "source": [
    "# heutiger Tag:\n",
    "heute = datetime.datetime.utcnow().strftime(\"%H:%M:%S %d.%m.%y\")\n",
    "\n",
    "# Liste aller strftime-Formate: \n",
    "# https://docs.python.org/2/library/datetime.html?highlight=datetime#strftime-strptime-behavior\n",
    "\n",
    "# Ausgeben:\n",
    "print(heute)"
   ]
  },
  {
   "cell_type": "markdown",
   "metadata": {},
   "source": [
    "# Deutsche Zeitzone"
   ]
  },
  {
   "cell_type": "code",
   "execution_count": 10,
   "metadata": {},
   "outputs": [
    {
     "name": "stdout",
     "output_type": "stream",
     "text": [
      "2018-05-10 22:05:29.413557+00:00\n"
     ]
    }
   ],
   "source": [
    "# ISO 8601 Format\n",
    "print(datetime.datetime.now(tz=pytz.utc))"
   ]
  },
  {
   "cell_type": "code",
   "execution_count": 11,
   "metadata": {},
   "outputs": [
    {
     "name": "stdout",
     "output_type": "stream",
     "text": [
      "2018-05-11 00:05:29.845581+02:00\n"
     ]
    }
   ],
   "source": [
    "# Berlin\n",
    "berlin = pytz.timezone('Europe/Berlin')\n",
    "\n",
    "# Ausgabe der Zeitzone:\n",
    "berlin.zone\n",
    "\n",
    "# Ausgabe der deutschen Uhrzeit:\n",
    "print(datetime.datetime.now(tz=berlin))"
   ]
  },
  {
   "cell_type": "code",
   "execution_count": 17,
   "metadata": {},
   "outputs": [
    {
     "name": "stdout",
     "output_type": "stream",
     "text": [
      "09:52:23 11.05.18\n"
     ]
    }
   ],
   "source": [
    "fmt = \"%H:%M:%S %d.%m.%y\"\n",
    "t_akt = berlin.localize(datetime.datetime.now())\n",
    "print(t_akt.strftime(fmt))"
   ]
  },
  {
   "cell_type": "markdown",
   "metadata": {},
   "source": [
    "Wochentag"
   ]
  },
  {
   "cell_type": "code",
   "execution_count": 1,
   "metadata": {},
   "outputs": [
    {
     "name": "stdout",
     "output_type": "stream",
     "text": [
      "Saturday\n"
     ]
    }
   ],
   "source": [
    "import time\n",
    "import datetime\n",
    "import pytz # \"This library allows accurate and cross platform timezone calculations using Python\"\n",
    "\n",
    "berlin = pytz.timezone('Europe/Berlin')\n",
    "wt_akt = berlin.localize(datetime.datetime.now()).strftime(\"%A\")\n",
    "\n",
    "# Ausgeben\n",
    "print(wt_akt)"
   ]
  },
  {
   "cell_type": "markdown",
   "metadata": {},
   "source": [
    "# Zeitpunkt festlegen / String zu datetime-Objekt"
   ]
  },
  {
   "cell_type": "code",
   "execution_count": 17,
   "metadata": {},
   "outputs": [
    {
     "name": "stdout",
     "output_type": "stream",
     "text": [
      "00:00:00 05.12.07\n",
      "08:30:45 05.12.07\n"
     ]
    }
   ],
   "source": [
    "import time\n",
    "import datetime\n",
    "import pytz # \"This library allows accurate and cross platform timezone calculations using Python\"\n",
    "\n",
    "berlin = pytz.timezone('Europe/Berlin')\n",
    "fmt_ausgabe = \"%H:%M:%S %d.%m.%y\"\n",
    "\n",
    "# Standartformatierung:\n",
    "nur_datum = berlin.localize(datetime.datetime(2007,12,5))\n",
    "datum_uhrzeit = berlin.localize(datetime.datetime(2007,12,5,8,30,45))\n",
    "\n",
    "# Beliebige Formatierung\n",
    "nur_datum = berlin.localize(datetime.datetime.strptime(\"05,12,2007\",\"%d,%m,%Y\"))\n",
    "datum_uhrzeit = berlin.localize(datetime.datetime.strptime(\"05,12,2007,8,30,45\",\"%d,%m,%Y,%H,%M,%S\"))\n",
    "\n",
    "# Formatierte Ausgabe\n",
    "print(nur_datum.strftime(fmt_ausgabe))\n",
    "print(datum_uhrzeit.strftime(fmt_ausgabe))"
   ]
  },
  {
   "cell_type": "markdown",
   "metadata": {},
   "source": [
    "# Datum (ohne Uhrzeit) mit Zeitzoneninfo"
   ]
  },
  {
   "cell_type": "code",
   "execution_count": 21,
   "metadata": {},
   "outputs": [
    {
     "name": "stdout",
     "output_type": "stream",
     "text": [
      "00:00:00 27.05.18\n"
     ]
    }
   ],
   "source": [
    "import time\n",
    "import datetime\n",
    "import pytz # \"This library allows accurate and cross platform timezone calculations using Python\"\n",
    "\n",
    "berlin = pytz.timezone('Europe/Berlin')\n",
    "fmt = \"%H:%M:%S %d.%m.%y\"\n",
    "\n",
    "# Leider bietet datetime.date.today() keine tz-info (Zeitzoneninformation)\n",
    "# datetime.datetime.now() bietet zwar  eine tz-info, dafür wird aber die aktuelle Uhrzeit mitgeliefert, was ein\n",
    "# Vergleichen von Daten verhindert.\n",
    "d = berlin.localize(datetime.datetime.now())\n",
    "# Jedoch kann man mit \"datetime.datetime.replace\" die Uhrzeit zuruecksetzen und somit Daten vergleichen\n",
    "d = d.replace(hour=0, minute=0, second=0, microsecond=0)\n",
    "\n",
    "# Formatierte Ausgabe\n",
    "print(d.strftime(fmt))"
   ]
  },
  {
   "cell_type": "markdown",
   "metadata": {},
   "source": [
    "# Uhrzeiten vergleichen"
   ]
  },
  {
   "cell_type": "code",
   "execution_count": 1,
   "metadata": {},
   "outputs": [
    {
     "name": "stdout",
     "output_type": "stream",
     "text": [
      "Datum:  5 - 5 - 2018\n",
      "Minimum:  2018-05-05 08:00:00+02:00 type:  <class 'datetime.datetime'>\n",
      "Aktuell:  2018-05-05 20:05:49.453532+02:00 type:  <class 'datetime.datetime'>\n",
      "Maximum:  2018-05-05 21:00:00+02:00 type:  <class 'datetime.datetime'>\n",
      "innerhalb\n"
     ]
    }
   ],
   "source": [
    "import time\n",
    "import datetime\n",
    "import pytz # \"This library allows accurate and cross platform timezone calculations using Python\"\n",
    "\n",
    "berlin = pytz.timezone('Europe/Berlin')\n",
    "t_akt = berlin.localize(datetime.datetime.now())\n",
    "\n",
    "# Aktuelles Jahr als Integer-Variable\n",
    "diese_jahr = 2000 + int(berlin.localize(datetime.datetime.now()).strftime(\"%y\"))\n",
    "# Aktueller Monat als Integer-Variable\n",
    "dieser_monat = int(berlin.localize(datetime.datetime.now()).strftime(\"%m\"))\n",
    "# Aktueller Tag als Integer-Variable\n",
    "dieser_tag = int(berlin.localize(datetime.datetime.now()).strftime(\"%d\"))\n",
    "\n",
    "print(\"Datum: \", dieser_tag, \"-\", dieser_monat, \"-\", diese_jahr)\n",
    "\n",
    "# 8:00:00 (am heutigen Tag)\n",
    "t_ctrl_min = berlin.localize(datetime.datetime(diese_jahr, dieser_monat, dieser_tag, 8, 0, 0))\n",
    "# 20:00:00 (am heutigen Tag)\n",
    "t_ctrl_max = berlin.localize(datetime.datetime(diese_jahr, dieser_monat, dieser_tag, 21, 0, 0))\n",
    "\n",
    "# Variablen mit Objekttypen Ausgeben\n",
    "print(\"Minimum: \", t_ctrl_min, \"type: \", type(t_ctrl_min))\n",
    "print(\"Aktuell: \", t_akt, \"type: \", type(t_akt))\n",
    "print(\"Maximum: \", t_ctrl_max, \"type: \", type(t_ctrl_max))\n",
    "\n",
    "# Vergleichen\n",
    "if t_ctrl_min < t_akt < t_ctrl_max:\n",
    "    print(\"innerhalb\")\n",
    "else:\n",
    "    print(\"außerhalb\")"
   ]
  },
  {
   "cell_type": "markdown",
   "metadata": {},
   "source": [
    "# konvertieren zu numpys datetime64 mit formatierung (strftime)"
   ]
  },
  {
   "cell_type": "code",
   "execution_count": 45,
   "metadata": {},
   "outputs": [
    {
     "name": "stdout",
     "output_type": "stream",
     "text": [
      "Python Standardbibliothek, Zeit mit Ausgleich: 10:53:06 11.05.18\n",
      "Numpy datetime64, UTC Zeit: 08:53:06 11.05.18\n"
     ]
    }
   ],
   "source": [
    "import pandas as pd \n",
    "import time\n",
    "import datetime\n",
    "import pytz # \"This library allows accurate and cross platform timezone calculations using Python\"\n",
    "\n",
    "berlin = pytz.timezone('Europe/Berlin')\n",
    "fmt = \"%H:%M:%S %d.%m.%y\"\n",
    "t_akt = berlin.localize(datetime.datetime.now())\n",
    "print(\"Python Standardbibliothek, Zeit mit Ausgleich: \"+t_akt.strftime(fmt))\n",
    "\n",
    "\n",
    "t= pd.to_datetime(str(t_akt)) \n",
    "timestring = t.strftime(fmt)\n",
    "print(\"Numpy datetime64, UTC Zeit: \"+timestring)"
   ]
  },
  {
   "cell_type": "markdown",
   "metadata": {},
   "source": [
    "# konvertieren zu Pandas-Format"
   ]
  },
  {
   "cell_type": "markdown",
   "metadata": {},
   "source": [
    "Erstellen des Dataframes mit Zeitangaben"
   ]
  },
  {
   "cell_type": "code",
   "execution_count": 67,
   "metadata": {},
   "outputs": [
    {
     "data": {
      "text/html": [
       "<div>\n",
       "<style scoped>\n",
       "    .dataframe tbody tr th:only-of-type {\n",
       "        vertical-align: middle;\n",
       "    }\n",
       "\n",
       "    .dataframe tbody tr th {\n",
       "        vertical-align: top;\n",
       "    }\n",
       "\n",
       "    .dataframe thead th {\n",
       "        text-align: right;\n",
       "    }\n",
       "</style>\n",
       "<table border=\"1\" class=\"dataframe\">\n",
       "  <thead>\n",
       "    <tr style=\"text-align: right;\">\n",
       "      <th></th>\n",
       "      <th>Zeit</th>\n",
       "      <th>Score</th>\n",
       "    </tr>\n",
       "  </thead>\n",
       "  <tbody>\n",
       "    <tr>\n",
       "      <th>0</th>\n",
       "      <td>11:02:26 11.05.18</td>\n",
       "      <td>25</td>\n",
       "    </tr>\n",
       "    <tr>\n",
       "      <th>1</th>\n",
       "      <td>11:02:28 11.05.18</td>\n",
       "      <td>94</td>\n",
       "    </tr>\n",
       "    <tr>\n",
       "      <th>2</th>\n",
       "      <td>11:02:29 11.05.18</td>\n",
       "      <td>57</td>\n",
       "    </tr>\n",
       "  </tbody>\n",
       "</table>\n",
       "</div>"
      ],
      "text/plain": [
       "                Zeit  Score\n",
       "0  11:02:26 11.05.18     25\n",
       "1  11:02:28 11.05.18     94\n",
       "2  11:02:29 11.05.18     57"
      ]
     },
     "execution_count": 67,
     "metadata": {},
     "output_type": "execute_result"
    }
   ],
   "source": [
    "# Erstellen des Dataframes mit Zeitangaben\n",
    "\n",
    "import pandas as pd \n",
    "import time\n",
    "import datetime\n",
    "import pytz # \"This library allows accurate and cross platform timezone calculations using Python\"\n",
    "\n",
    "# Ausgangsformat\n",
    "berlin = pytz.timezone('Europe/Berlin')\n",
    "fmt = \"%H:%M:%S %d.%m.%y\"\n",
    "# Daten für DataFrame erstellen\n",
    "li = []\n",
    "for i in range(3):\n",
    "    li.append(\"{}\".format(berlin.localize(datetime.datetime.now()).strftime(fmt)))\n",
    "    time.sleep(1.5)\n",
    "    \n",
    "raw_data = {'Zeit': li,\n",
    "        'Score': [25, 94, 57]}\n",
    "\n",
    "# Dataframe erstellen\n",
    "df = pd.DataFrame(raw_data, columns = ['Zeit', 'Score'])\n",
    "\n",
    "# Ausgabe des Dataframes\n",
    "df"
   ]
  },
  {
   "cell_type": "markdown",
   "metadata": {},
   "source": [
    "Ausgabe der Objekttypen des DataFrames"
   ]
  },
  {
   "cell_type": "code",
   "execution_count": 68,
   "metadata": {},
   "outputs": [
    {
     "data": {
      "text/plain": [
       "Zeit     object\n",
       "Score     int64\n",
       "dtype: object"
      ]
     },
     "execution_count": 68,
     "metadata": {},
     "output_type": "execute_result"
    }
   ],
   "source": [
    "# Ausgabe der Objekttypen des DataFrames\n",
    "df.dtypes"
   ]
  },
  {
   "cell_type": "markdown",
   "metadata": {},
   "source": [
    "Spalte (column) Zeit in Pandas-Datetime konvertieren"
   ]
  },
  {
   "cell_type": "code",
   "execution_count": 69,
   "metadata": {},
   "outputs": [
    {
     "data": {
      "text/plain": [
       "Zeit     datetime64[ns]\n",
       "Score             int64\n",
       "dtype: object"
      ]
     },
     "execution_count": 69,
     "metadata": {},
     "output_type": "execute_result"
    }
   ],
   "source": [
    "#Spalte (column) Zeit in Pandas-Datetime konvertieren (überschreiben)\n",
    "\n",
    "df['Zeit'] = pd.to_datetime(df['Zeit'], format=fmt)\n",
    "\n",
    "# Ausgabe der Objekttypen des DataFrames\n",
    "df.dtypes"
   ]
  },
  {
   "cell_type": "markdown",
   "metadata": {},
   "source": [
    "Zeit zu DatetimeIndex konvertieren"
   ]
  },
  {
   "cell_type": "code",
   "execution_count": 70,
   "metadata": {},
   "outputs": [
    {
     "data": {
      "text/html": [
       "<div>\n",
       "<style scoped>\n",
       "    .dataframe tbody tr th:only-of-type {\n",
       "        vertical-align: middle;\n",
       "    }\n",
       "\n",
       "    .dataframe tbody tr th {\n",
       "        vertical-align: top;\n",
       "    }\n",
       "\n",
       "    .dataframe thead th {\n",
       "        text-align: right;\n",
       "    }\n",
       "</style>\n",
       "<table border=\"1\" class=\"dataframe\">\n",
       "  <thead>\n",
       "    <tr style=\"text-align: right;\">\n",
       "      <th></th>\n",
       "      <th>Score</th>\n",
       "    </tr>\n",
       "    <tr>\n",
       "      <th>Zeit</th>\n",
       "      <th></th>\n",
       "    </tr>\n",
       "  </thead>\n",
       "  <tbody>\n",
       "    <tr>\n",
       "      <th>2018-05-11 11:02:26</th>\n",
       "      <td>25</td>\n",
       "    </tr>\n",
       "    <tr>\n",
       "      <th>2018-05-11 11:02:28</th>\n",
       "      <td>94</td>\n",
       "    </tr>\n",
       "    <tr>\n",
       "      <th>2018-05-11 11:02:29</th>\n",
       "      <td>57</td>\n",
       "    </tr>\n",
       "  </tbody>\n",
       "</table>\n",
       "</div>"
      ],
      "text/plain": [
       "                     Score\n",
       "Zeit                      \n",
       "2018-05-11 11:02:26     25\n",
       "2018-05-11 11:02:28     94\n",
       "2018-05-11 11:02:29     57"
      ]
     },
     "execution_count": 70,
     "metadata": {},
     "output_type": "execute_result"
    }
   ],
   "source": [
    "# Zeit zu DatetimeIndex konvertieren\n",
    "df.set_index('Zeit', inplace=True)\n",
    "\n",
    "# Ausgabe des Dataframes\n",
    "df"
   ]
  },
  {
   "cell_type": "code",
   "execution_count": 71,
   "metadata": {},
   "outputs": [
    {
     "data": {
      "text/html": [
       "<div>\n",
       "<style scoped>\n",
       "    .dataframe tbody tr th:only-of-type {\n",
       "        vertical-align: middle;\n",
       "    }\n",
       "\n",
       "    .dataframe tbody tr th {\n",
       "        vertical-align: top;\n",
       "    }\n",
       "\n",
       "    .dataframe thead th {\n",
       "        text-align: right;\n",
       "    }\n",
       "</style>\n",
       "<table border=\"1\" class=\"dataframe\">\n",
       "  <thead>\n",
       "    <tr style=\"text-align: right;\">\n",
       "      <th></th>\n",
       "      <th>Score</th>\n",
       "    </tr>\n",
       "    <tr>\n",
       "      <th>Zeit</th>\n",
       "      <th></th>\n",
       "    </tr>\n",
       "  </thead>\n",
       "  <tbody>\n",
       "    <tr>\n",
       "      <th>2018-05-11 11:02:26+02:00</th>\n",
       "      <td>25</td>\n",
       "    </tr>\n",
       "    <tr>\n",
       "      <th>2018-05-11 11:02:28+02:00</th>\n",
       "      <td>94</td>\n",
       "    </tr>\n",
       "    <tr>\n",
       "      <th>2018-05-11 11:02:29+02:00</th>\n",
       "      <td>57</td>\n",
       "    </tr>\n",
       "  </tbody>\n",
       "</table>\n",
       "</div>"
      ],
      "text/plain": [
       "                           Score\n",
       "Zeit                            \n",
       "2018-05-11 11:02:26+02:00     25\n",
       "2018-05-11 11:02:28+02:00     94\n",
       "2018-05-11 11:02:29+02:00     57"
      ]
     },
     "execution_count": 71,
     "metadata": {},
     "output_type": "execute_result"
    }
   ],
   "source": [
    "# Lokalisierungsinformationen angeben (Verschiebung zur UTC-Zeit)\n",
    "df.index = df.index.tz_localize(berlin)\n",
    "\n",
    "# Ausgabe des Dataframes\n",
    "df"
   ]
  },
  {
   "cell_type": "markdown",
   "metadata": {},
   "source": [
    "# Mit Daten rechnen"
   ]
  },
  {
   "cell_type": "code",
   "execution_count": 4,
   "metadata": {},
   "outputs": [
    {
     "name": "stdout",
     "output_type": "stream",
     "text": [
      "11:53:59\n"
     ]
    }
   ],
   "source": [
    "from datetime import datetime, timedelta\n",
    "import pytz # \"This library allows accurate and cross platform timezone calculations using Python\"\n",
    "\n",
    "fmt = \"%H:%M:%S\"\n",
    "\n",
    "#d = datetime.today() - timedelta(hours=1, minutes=50, seconds = 30)\n",
    "d = pytz.timezone('Europe/Berlin').localize(datetime.now()) - timedelta(hours=1, minutes=50, seconds = 30)\n",
    "\n",
    "print(d.strftime(fmt))"
   ]
  },
  {
   "cell_type": "markdown",
   "metadata": {},
   "source": [
    "# Daten iterieren"
   ]
  },
  {
   "cell_type": "code",
   "execution_count": 3,
   "metadata": {},
   "outputs": [
    {
     "name": "stdout",
     "output_type": "stream",
     "text": [
      "14_08_95\n",
      "15_08_95\n",
      "16_08_95\n",
      "17_08_95\n",
      "18_08_95\n",
      "19_08_95\n",
      "20_08_95\n",
      "21_08_95\n",
      "22_08_95\n",
      "23_08_95\n",
      "24_08_95\n",
      "25_08_95\n",
      "26_08_95\n",
      "27_08_95\n"
     ]
    }
   ],
   "source": [
    "from datetime import timedelta, date, datetime\n",
    "\n",
    "fmt = \"%d_%m_%y\"\n",
    "\n",
    "def daterange(start_date, end_date):\n",
    "    for n in range(int ((end_date - start_date).days)):\n",
    "        yield start_date + timedelta(n)\n",
    "        \n",
    "start_id = \"14_08_95\"\n",
    "ende_id = \"28_8_95\"\n",
    "\n",
    "start_date = datetime.strptime(start_id, fmt)\n",
    "end_date = datetime.strptime(ende_id, fmt)\n",
    "for single_date in daterange(start_date, end_date):\n",
    "    print(single_date.strftime(fmt))"
   ]
  }
 ],
 "metadata": {
  "kernelspec": {
   "display_name": "Python 3",
   "language": "python",
   "name": "python3"
  },
  "language_info": {
   "codemirror_mode": {
    "name": "ipython",
    "version": 3
   },
   "file_extension": ".py",
   "mimetype": "text/x-python",
   "name": "python",
   "nbconvert_exporter": "python",
   "pygments_lexer": "ipython3",
   "version": "3.6.5"
  }
 },
 "nbformat": 4,
 "nbformat_minor": 2
}

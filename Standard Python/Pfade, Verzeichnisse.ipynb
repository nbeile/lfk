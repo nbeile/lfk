{
 "cells": [
  {
   "cell_type": "code",
   "execution_count": 2,
   "metadata": {},
   "outputs": [],
   "source": [
    "import os"
   ]
  },
  {
   "cell_type": "markdown",
   "metadata": {},
   "source": [
    "# Überprüfen, ob Pfad existiert"
   ]
  },
  {
   "cell_type": "code",
   "execution_count": 14,
   "metadata": {},
   "outputs": [
    {
     "name": "stdout",
     "output_type": "stream",
     "text": [
      "True\n"
     ]
    }
   ],
   "source": [
    "# Überprüfen, ob Pfad existiert\n",
    "# Wert wird als Boolean (\"True\" oder \"False\") zurückgegeben:\n",
    "pfad = \"C:\\\\Users\\\\Niklas\\\\Desktop\\\\PythonBeispiel\"\n",
    "pruef = os.path.exists(pfad)\n",
    "\n",
    "# Wert ausgeben:\n",
    "print(pruef)"
   ]
  },
  {
   "cell_type": "markdown",
   "metadata": {},
   "source": [
    "# Pfad erstellen"
   ]
  },
  {
   "cell_type": "code",
   "execution_count": 8,
   "metadata": {},
   "outputs": [
    {
     "data": {
      "text/plain": [
       "'C:\\\\Users\\\\Niklas\\\\Desktop\\\\Python\\\\Beispiel'"
      ]
     },
     "execution_count": 8,
     "metadata": {},
     "output_type": "execute_result"
    }
   ],
   "source": [
    "# Pfad, zu dem das neue Verzeichnis hinzugefügt werden soll\n",
    "# (Erstellt keine Verzeichnisse (Ordner), sondern nur die Pfade dorthin!)\n",
    "pfad = \"C:\\\\Users\\\\Niklas\\\\Desktop\\\\\"\n",
    "# Verzeichnis\n",
    "Verzeichnis = \"Python\"\n",
    "# Unterverzeichnis\n",
    "Unterverzeichnis = \"Beispiel\"\n",
    "os.path.join(pfad, Verzeichnis, Unterverzeichnis)\n",
    "\n",
    "# Pfade können auch relativ (zum Skript) angelegt werden\n",
    "# Hier z.B.:\n",
    "# os.path.join(Verzeichnis, Unterverzeichnis)"
   ]
  },
  {
   "cell_type": "markdown",
   "metadata": {},
   "source": [
    "# Pfad dieser .py-Datei"
   ]
  },
  {
   "cell_type": "code",
   "execution_count": 4,
   "metadata": {},
   "outputs": [
    {
     "ename": "NameError",
     "evalue": "name '__file__' is not defined",
     "output_type": "error",
     "traceback": [
      "\u001b[1;31m---------------------------------------------------------------------------\u001b[0m",
      "\u001b[1;31mNameError\u001b[0m                                 Traceback (most recent call last)",
      "\u001b[1;32m<ipython-input-4-fdef41fc4c2e>\u001b[0m in \u001b[0;36m<module>\u001b[1;34m()\u001b[0m\n\u001b[0;32m      1\u001b[0m \u001b[1;32mimport\u001b[0m \u001b[0mos\u001b[0m\u001b[1;33m\u001b[0m\u001b[0m\n\u001b[0;32m      2\u001b[0m \u001b[1;31m# print(os.getcwd())\u001b[0m\u001b[1;33m\u001b[0m\u001b[1;33m\u001b[0m\u001b[0m\n\u001b[1;32m----> 3\u001b[1;33m \u001b[0mos\u001b[0m\u001b[1;33m.\u001b[0m\u001b[0mpath\u001b[0m\u001b[1;33m.\u001b[0m\u001b[0mjoin\u001b[0m\u001b[1;33m(\u001b[0m\u001b[0mos\u001b[0m\u001b[1;33m.\u001b[0m\u001b[0mpath\u001b[0m\u001b[1;33m.\u001b[0m\u001b[0mdirname\u001b[0m\u001b[1;33m(\u001b[0m\u001b[0m__file__\u001b[0m\u001b[1;33m)\u001b[0m\u001b[1;33m)\u001b[0m\u001b[1;33m\u001b[0m\u001b[0m\n\u001b[0m",
      "\u001b[1;31mNameError\u001b[0m: name '__file__' is not defined"
     ]
    }
   ],
   "source": [
    "import os\n",
    "# Funktioniert in der Konsole nicht\n",
    "os.path.join(os.path.dirname(__file__))"
   ]
  },
  {
   "cell_type": "markdown",
   "metadata": {},
   "source": [
    "# Verzeichnis erstellen"
   ]
  },
  {
   "cell_type": "code",
   "execution_count": 5,
   "metadata": {},
   "outputs": [],
   "source": [
    "# Verzeichnis erstellen\n",
    "# makedirs() erzeugt alle notwendigen Unterverzeichnisse\n",
    "# wenn exist_ok = False (Standardwert, wenn nicht angegeben) ist, wird ein Fehler gemeldet\n",
    "\n",
    "# Pfad des zu erstellenden Verzeichnisses\n",
    "pfad = \"C:\\\\Users\\\\Niklas\\\\Desktop\\\\PythonBeispiel\"\n",
    "os.makedirs(pfad, exist_ok = True)"
   ]
  },
  {
   "cell_type": "code",
   "execution_count": null,
   "metadata": {},
   "outputs": [],
   "source": []
  }
 ],
 "metadata": {
  "kernelspec": {
   "display_name": "Python 3",
   "language": "python",
   "name": "python3"
  },
  "language_info": {
   "codemirror_mode": {
    "name": "ipython",
    "version": 3
   },
   "file_extension": ".py",
   "mimetype": "text/x-python",
   "name": "python",
   "nbconvert_exporter": "python",
   "pygments_lexer": "ipython3",
   "version": "3.6.5"
  }
 },
 "nbformat": 4,
 "nbformat_minor": 2
}

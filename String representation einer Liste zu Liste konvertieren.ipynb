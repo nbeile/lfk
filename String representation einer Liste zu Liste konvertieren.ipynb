{
 "cells": [
  {
   "cell_type": "markdown",
   "metadata": {},
   "source": [
    "# String representation einer Liste zu Liste konvertieren"
   ]
  },
  {
   "cell_type": "code",
   "execution_count": 6,
   "metadata": {},
   "outputs": [
    {
     "name": "stdout",
     "output_type": "stream",
     "text": [
      "['01:47:08 10.05.18', '194,3560']\n",
      "['01:47:08 10.05.18', '194,3560']\n"
     ]
    }
   ],
   "source": [
    "# -*- coding: utf-8 -*-\n",
    "import pytz\n",
    "import datetime\n",
    "import ast\n",
    "\n",
    "\n",
    "Wert_1 = \"194,3560\"\n",
    "berlin = pytz.timezone('Europe/Berlin')\n",
    "fmt = \"%H:%M:%S %d.%m.%y\"\n",
    "\n",
    "zeichenkette = \"['{0}', '{1}']\".format(berlin.localize(datetime.datetime.now()).strftime(fmt), adidas_float)\n",
    "print(zeichenkette)\n",
    "\n",
    "li = ast.literal_eval(zeichenkette)\n",
    "print(li)"
   ]
  },
  {
   "cell_type": "code",
   "execution_count": null,
   "metadata": {},
   "outputs": [],
   "source": []
  }
 ],
 "metadata": {
  "kernelspec": {
   "display_name": "Python 3",
   "language": "python",
   "name": "python3"
  },
  "language_info": {
   "codemirror_mode": {
    "name": "ipython",
    "version": 3
   },
   "file_extension": ".py",
   "mimetype": "text/x-python",
   "name": "python",
   "nbconvert_exporter": "python",
   "pygments_lexer": "ipython3",
   "version": "3.6.5"
  }
 },
 "nbformat": 4,
 "nbformat_minor": 2
}
